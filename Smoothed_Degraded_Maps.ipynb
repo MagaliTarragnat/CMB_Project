{
 "cells": [
  {
   "cell_type": "code",
   "execution_count": null,
   "metadata": {},
   "outputs": [],
   "source": [
    "import healpy as hp\n",
    "import numpy as np\n",
    "import math\n",
    "\n",
    "list_file = [hp.fitsfunc.read_map('HFI_SkyMap_100-field-IQU_2048_R3.00_full.fits'), hp.fitsfunc.read_map('HFI_SkyMap_143-field-IQU_2048_R3.00_full.fits'), hp.fitsfunc.read_map('HFI_SkyMap_217-field-IQU_2048_R3.00_full.fits'), hp.fitsfunc.read_map('HFI_SkyMap_353-psb-field-IQU_2048_R3.00_full.fits'), hp.fitsfunc.read_map('HFI_SkyMap_545-field-Int_2048_R3.00_full.fits')] #intitial maps\n",
    "fwhm_in = [9.68, 7.30, 5.02, 4.94, 4.83] #initial angular resolution\n",
    "fwhm_smoothing = [math.sqrt((fwhm_in[0]**2 - fwhm_in[i]**2)) *math.pi/(60*180) for i in range(5)] #angular resolution of the convolution\n",
    "list_smoothed = [hp.sphtfunc.smoothing(list_file[i], fwhm=fwhm_smoothing[i]) for i in range(5)] #maps smoothed at the same angular resolution\n",
    "list_degraded = [hp.pixelfunc.ud_grade(list_smoothed[i], nside_out=512) for i in range(5)] #maps degraded\n",
    "\n",
    "#saving of the new maps\n",
    "hp.fitsfunc.write_map('GHz100_smoothed_512', list_degraded[0])\n",
    "hp.fitsfunc.write_map('GHz143_smoothed_512', list_degraded[1])\n",
    "hp.fitsfunc.write_map('GHz217_smoothed_512', list_degraded[2])\n",
    "hp.fitsfunc.write_map('GHz353_smoothed_512', list_degraded[3])\n",
    "hp.fitsfunc.write_map('GHz545_smoothed_512', list_degraded[4])\n",
    "\n",
    "GHz535_KCMB = hp.fitsfunc.read_map('GHz545_smoothed_512')/57.92 #conversion of Jy/sr into KCMB\n",
    "hp.fitsfunc.write_map('GHz545_smoothed_512_KCMB', GHz535_KCMB)"
   ]
  }
 ],
 "metadata": {
  "kernelspec": {
   "display_name": "Python 3",
   "language": "python",
   "name": "python3"
  },
  "language_info": {
   "codemirror_mode": {
    "name": "ipython",
    "version": 3
   },
   "file_extension": ".py",
   "mimetype": "text/x-python",
   "name": "python",
   "nbconvert_exporter": "python",
   "pygments_lexer": "ipython3",
   "version": "3.8.3"
  }
 },
 "nbformat": 4,
 "nbformat_minor": 4
}
